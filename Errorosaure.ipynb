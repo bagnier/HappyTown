{
 "cells": [
  {
   "cell_type": "markdown",
   "metadata": {},
   "source": [
    "![Errorosaur](img/Errorosaure.png)"
   ]
  },
  {
   "cell_type": "code",
   "execution_count": null,
   "metadata": {},
   "outputs": [],
   "source": [
    "!pip3 install termcolor\n",
    "\n",
    "from termcolor import colored\n",
    "\n",
    "def sally_dit(message):\n",
    "    print(colored(\"Sally : {}\".format(message), 'red'))\n",
    "def max_dit(message):\n",
    "    print(colored(\"Max : {}\".format(message), 'blue'))\n",
    "def carmen_dit(message):\n",
    "    print(colored(\"Carmen : {}\".format(message), 'green'))\n",
    "def peter_dit(message):\n",
    "    print(colored(\"Peter : {}\".format(message), 'magenta'))"
   ]
  },
  {
   "cell_type": "code",
   "execution_count": null,
   "metadata": {},
   "outputs": [],
   "source": [
    "print(\"PREVIOUSLY IN HAPPY TOWN\")\n",
    "\n",
    "print(\"oh mais, c'est pas possible ! qu'est ce qui vient vers nous ?\")\n",
    "peter_dit(\"il est immense !\")\n",
    "carmen_dit(\"il a de grandes dents...\")\n",
    "max_dit(\"ok, bien visiblement c'est un dinosaure...\")\n",
    "sally_dit(\"tant que ce ne sont pas deux hirondelles portant une noix de coco, on va s'en sortir\")"
   ]
  },
  {
   "cell_type": "code",
   "execution_count": null,
   "metadata": {},
   "outputs": [],
   "source": [
    "peter_dit(\"bien... bien... FUYONS !!\")\n",
    "prendre_la_fuite()"
   ]
  },
  {
   "cell_type": "code",
   "execution_count": null,
   "metadata": {},
   "outputs": [],
   "source": [
    "max_dit(\"les amis vous avez entendu ça ! C'est le cri du dinosaure !!\")\n",
    "print(\"et c'est quoi la fonction prendre_la_fuite ?\")\n",
    "peter_dit(\"bien... je n'y ai pas pensé, cette fonction n'existe pas\")\n",
    "print(\"du coup ça ne marche pas ?\")\n",
    "max_dit(\"en effet ça ne peut pas marcher\")\n",
    "print(\"c'est peut-être pour ça que l'on entend :\")\n",
    "print(\"NameError: name 'prendre_la_fuite' is not defined\")"
   ]
  },
  {
   "cell_type": "code",
   "execution_count": null,
   "metadata": {},
   "outputs": [],
   "source": [
    "def prendre_la_fuite()\n",
    "  for nombre range(100)\n",
    "  panique()"
   ]
  },
  {
   "cell_type": "code",
   "execution_count": null,
   "metadata": {},
   "outputs": [],
   "source": [
    "sally_dit(\"ça recommence !\")\n",
    "print(\"mais regardez, le cri du dinosaure a changé\")\n",
    "print(\"il dit maintenant qu'à la fin de la ligne 1 il attendait le caractère :\")\n",
    "peter_dit(\"bah oui il manque bien le : à la fin de la première ligne\")\n",
    "print(\"on recommence !\")"
   ]
  },
  {
   "cell_type": "code",
   "execution_count": null,
   "metadata": {},
   "outputs": [],
   "source": [
    "def prendre_la_fuite():\n",
    "  for nombre range(100):\n",
    "  panique()"
   ]
  },
  {
   "cell_type": "code",
   "execution_count": null,
   "metadata": {},
   "outputs": [],
   "source": [
    "carmen_dit(\"un nouveau cri ! qu'est ce que ça signifie ?\")\n",
    "print(\"SyntaxError: invalid syntax c'est peut-être que ce qui est écrit est illisible ?\")\n",
    "carmen_dit(\"en effet la structure for-in n'est pas respectée, il manque le in\")"
   ]
  },
  {
   "cell_type": "code",
   "execution_count": null,
   "metadata": {},
   "outputs": [],
   "source": [
    "def prendre_la_fuite():\n",
    "  for nombre in range(100):\n",
    "  panique()"
   ]
  },
  {
   "cell_type": "code",
   "execution_count": null,
   "metadata": {},
   "outputs": [],
   "source": [
    "peter_dit(\"est ce que il faut essayer de comprendre ce message ?\")\n",
    "print(\"il dit qu'il faut regarder la ligne 3, puis il marque où avec le caractère ^\")\n",
    "print(\"expected an indented block after 'for' statement on line 6\")\n",
    "peter_dit(\"c'est clair : il manque des espaces\")\n",
    "sally_dit(\"il est quand même bien serviable ce dangereux dinosaure...\")"
   ]
  },
  {
   "cell_type": "code",
   "execution_count": null,
   "metadata": {},
   "outputs": [],
   "source": [
    "def prendre_la_fuite():\n",
    "  for nombre in range(100):\n",
    "    panique()"
   ]
  },
  {
   "cell_type": "code",
   "execution_count": null,
   "metadata": {},
   "outputs": [],
   "source": [
    "peter_dit(\"ça a marché ! On va enfin pouvoir...\")\n",
    "prendre_la_fuite()"
   ]
  },
  {
   "cell_type": "code",
   "execution_count": null,
   "metadata": {},
   "outputs": [],
   "source": [
    "max_dit(\"le cri a été encore plus long, mais est il logique ?\")\n",
    "print(\"le message final est NameError: name 'panique' is not defined\")\n",
    "print(\"c'est vrai que la fonction panique n'est pas définie\")\n",
    "sally_dit(\"la ligne 2 appelle la fonction prendre_la_fuite()\")\n",
    "sally_dit(\"la ligne 3 de cette fonction appelle la fonction panique()\")\n",
    "sally_dit(\"il montre ce que l'on appelle la stack trace, la pile des appels\")"
   ]
  },
  {
   "cell_type": "code",
   "execution_count": null,
   "metadata": {},
   "outputs": [],
   "source": [
    "peter_dit(\"il faut donc créer la fonction panique !\")\n",
    "carmen_dit(\"ou alors cesser de paniquer... jusqu'ici il ne nous a rien fait de mal\")\n",
    "carmen_dit(\"il nous dit juste où se trouvent nos erreurs\")\n",
    "print(\"encore faut il prendre le temps de tenter de le comprendre\")\n",
    "max_dit(\"il y a donc une logique dans ces agissements\")\n",
    "peter_dit(\"bon... bon... pas besoin de paniquer finalement\")\n",
    "sally_dit(\"tout est bien qui fini bien et on en ressort toutes et tous un peu grandis\")\n",
    "print(\"tu crois qu'il aime les carottes ?\")"
   ]
  }
 ],
 "metadata": {
  "kernelspec": {
   "display_name": "HappyTown",
   "language": "python",
   "name": "python3"
  },
  "language_info": {
   "codemirror_mode": {
    "name": "ipython",
    "version": 3
   },
   "file_extension": ".py",
   "mimetype": "text/x-python",
   "name": "python",
   "nbconvert_exporter": "python",
   "pygments_lexer": "ipython3",
   "version": "3.11.5"
  },
  "orig_nbformat": 4
 },
 "nbformat": 4,
 "nbformat_minor": 2
}
