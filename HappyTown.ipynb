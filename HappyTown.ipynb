{
 "cells": [
  {
   "attachments": {},
   "cell_type": "markdown",
   "metadata": {},
   "source": [
    "![hello](img/city.jpeg)\n",
    "# bienvenue Happy Town"
   ]
  },
  {
   "cell_type": "code",
   "execution_count": null,
   "metadata": {},
   "outputs": [],
   "source": [
    "# c'est le matin et je viens d'arriver dans cette ville, Happy Town\n",
    "# pour le moment je ne fais rien de particulier, je ne fais qu'exprimer\n",
    "# mes pensées dans des commentaires qui commencent par #"
   ]
  },
  {
   "cell_type": "code",
   "execution_count": null,
   "metadata": {},
   "outputs": [],
   "source": [
    "# nous sommes dans un notebook, une manière très pratique \n",
    "# de coder en Python qui découpe notre code en cases, à la\n",
    "# manière d'une bande dessinée.\n",
    "\n",
    "# chaque case est executable et peut afficher un resultat\n",
    "# en cliquant sur l'icone de lancement\n",
    "\n",
    "print(\"Salut ! je viens d'arriver en ville !\")"
   ]
  },
  {
   "cell_type": "code",
   "execution_count": null,
   "metadata": {},
   "outputs": [],
   "source": [
    "# on peut evidement se servir de ces cases pour \n",
    "# écrire des choses moins triviales, comme l'exemple\n",
    "# suivant, qui ne prendra du sens que plus tard\n",
    "\n",
    "!pip3 install termcolor\n",
    "\n",
    "from termcolor import colored\n",
    "\n",
    "def sally_dit(message):\n",
    "    print(colored(\"Sally : {}\".format(message), 'red'))"
   ]
  },
  {
   "cell_type": "code",
   "execution_count": null,
   "metadata": {},
   "outputs": [],
   "source": [
    "# la programmation demande d'écrire avec Rigueur ! \n",
    "# en réalité c'est un programme qui va vous lire et \n",
    "# interpréter vos demandes, il ne sait pas lire entre\n",
    "# les lignes ni interpréter des formulations floues\n",
    "# ou approximatives. Il est fait au contraire pour être\n",
    "# précis.\n",
    "\n",
    "print(\"Il y a quelqu'un ?\")\n",
    "\n",
    "# print c'est le nom d'une fonction, fournie par Python\n",
    "# les parenthèses () indiquent qu'on appelle cette fonction\n",
    "# \"Il y a quelqu'un ?\" est un message, ce que l'on appelle \n",
    "# une chaine de caractères entre \"\" passée en paramètre à \n",
    "# cette fonction afin qu'elle l'affiche."
   ]
  },
  {
   "cell_type": "code",
   "execution_count": null,
   "metadata": {},
   "outputs": [],
   "source": [
    "# à ton tour de prendre la parole !\n",
    "# écris ton premier print\n",
    "# avec message entre parenthèses et entre guillemets\n",
    "\n"
   ]
  },
  {
   "attachments": {},
   "cell_type": "markdown",
   "metadata": {},
   "source": [
    "![Sally](img/Sally.png)"
   ]
  },
  {
   "cell_type": "code",
   "execution_count": null,
   "metadata": {},
   "outputs": [],
   "source": [
    "sally_dit(\"Hey ! Bienvenue !! Je suis Sally\")\n",
    "sally_dit(\"et toi comment tu t'appelles ?\")\n",
    "\n"
   ]
  },
  {
   "cell_type": "code",
   "execution_count": null,
   "metadata": {},
   "outputs": [],
   "source": [
    "# à toi de jouer !\n",
    "\n",
    "# prenom est une variable. Une variable porte un nom et une valeur.\n",
    "# le signe = représente ici une assignation :\n",
    "# on assigne à la variable prenom la valeur entre guillemets.\n",
    "\n",
    "prenom = \"\""
   ]
  },
  {
   "cell_type": "code",
   "execution_count": null,
   "metadata": {},
   "outputs": [],
   "source": [
    "print(prenom)\n",
    "sally_dit(prenom)\n",
    "sally_dit(\"enchantée !\")\n",
    "sally_dit(\"c'est bien que tu aies créé une variable, ça va éviter de l'oublier\")"
   ]
  },
  {
   "cell_type": "code",
   "execution_count": null,
   "metadata": {},
   "outputs": [],
   "source": [
    "# ce que Sally utilise ici pour parler c'est une fonction.\n",
    "# d'ailleurs print est une fonction. On y reviendra bientôt.\n",
    "\n",
    "print(\"Salut Sally ! Qu'est ce que tu fais de beau ?\")\n",
    "sally_dit(\"Je suis marchande, je vends des légumes, j'étais justement en train de les recompter\")\n",
    "print(\"c'est pas trop embêtant de compter des légumes ?\")\n",
    "sally_dit(\"au contraire j'adore ça !\")"
   ]
  },
  {
   "cell_type": "code",
   "execution_count": null,
   "metadata": {},
   "outputs": [],
   "source": [
    "sally_dit(\"Commençons par les carottes que j'ai ici\")\n",
    "sally_dit(29)\n",
    "\n",
    "sally_dit(\"t'as remarqué, je dis un nombre au lieu d'une chaine de caractères\")"
   ]
  },
  {
   "cell_type": "code",
   "execution_count": null,
   "metadata": {},
   "outputs": [],
   "source": [
    "sally_dit(\"J'en ai 3 cagettes de 30 en réserve, et bien ça fait...\")\n",
    "sally_dit(3 * 30)\n",
    "sally_dit(\"t'as vu, j'ai fait une multiplication\")"
   ]
  },
  {
   "cell_type": "code",
   "execution_count": null,
   "metadata": {},
   "outputs": [],
   "source": [
    "sally_dit(\"donc en tout j'en ai...\")\n",
    "sally_dit(3 * 30 + 29)"
   ]
  },
  {
   "cell_type": "code",
   "execution_count": null,
   "metadata": {},
   "outputs": [],
   "source": [
    "print(\"euh... tu es sûre ? ça dépend de l'ordre, parce que 3 * 30 + 29 ça pourrait faire 177 ?\")\n",
    "sally_dit(\"oui je suis sûre de moi ! les multiplications prévalent sur les additions. Je te montre :\")\n",
    "sally_dit(3 * 30 + 29)\n",
    "sally_dit((3 * 30) + 29)\n",
    "sally_dit(3 * (30 + 29))\n",
    "sally_dit(\"il faut savoir sacrément bien compter pour être vendeuse de légumes ici\")"
   ]
  },
  {
   "cell_type": "code",
   "execution_count": null,
   "metadata": {},
   "outputs": [],
   "source": [
    "sally_dit(\"d'ailleurs ça fait combien de bottes de 6 carottes ?\")\n",
    "sally_dit(\"est ce que tu veux bien m'aider à retenir combien il y a de carottes en tout stp ?\")\n",
    "\n",
    "nombre_de_carottes = 3 * 30 + 29\n",
    "print(nombre_de_carottes)\n",
    "\n",
    "# nombre_de_carottes est une variable. Une variable porte un nom et une valeur\n",
    "# le signe = représente ici une assignation :\n",
    "# on assigne à la variable nombre_de_carottes la valeur issue du calcul.\n",
    "\n",
    "sally_dit(\"par ici on parle Python et donc on nomme ses variables\")\n",
    "sally_dit(\"avec des minuscules_et_underscores, c'est notre accent\")\n"
   ]
  },
  {
   "cell_type": "code",
   "execution_count": null,
   "metadata": {},
   "outputs": [],
   "source": [
    "print(nombre_de_carottes / 6)\n",
    "\n",
    "sally_dit(\"le resultat d'une division est un nombre à virgule !\")"
   ]
  },
  {
   "cell_type": "code",
   "execution_count": null,
   "metadata": {},
   "outputs": [],
   "source": [
    "print(nombre_de_carottes // 6)\n",
    "\n",
    "sally_dit(\"à moins de faire une division entière avec l'opérateur //\")"
   ]
  },
  {
   "cell_type": "code",
   "execution_count": null,
   "metadata": {},
   "outputs": [],
   "source": [
    "print(nombre_de_carottes % 6)\n",
    "\n",
    "sally_dit(\"l'opérateur % donne le reste entier d'une division entière\")\n",
    "sally_dit(\"+ - * / // % sont des opérateurs arithmétiques\")"
   ]
  },
  {
   "cell_type": "code",
   "execution_count": null,
   "metadata": {},
   "outputs": [],
   "source": [
    "sally_dit(\"et voilà ! je viens de vendre une botte de carottes, tu veux t'en souvenir pour moi ?\")\n",
    "\n",
    "nombre_de_carottes = nombre_de_carottes - 6\n",
    "print(nombre_de_carottes)\n",
    "\n",
    "# ici on assigne à la variable nombre_de_carottes une nouvelle valeur\n",
    "# calculée à partir de sa valeur précédente.\n",
    "# on affiche le resultat de la variable en la passant en argument à print."
   ]
  },
  {
   "cell_type": "code",
   "execution_count": null,
   "metadata": {},
   "outputs": [],
   "source": [
    "sally_dit(\"combien a-t-on de bottes entières maintenant ?\")"
   ]
  },
  {
   "cell_type": "code",
   "execution_count": null,
   "metadata": {},
   "outputs": [],
   "source": [
    "# à toi de jouer !\n",
    "\n"
   ]
  },
  {
   "cell_type": "code",
   "execution_count": null,
   "metadata": {},
   "outputs": [],
   "source": [
    "sally_dit(\"je sais faire plein de calculs ! même les plus complexes\")\n",
    "sally_dit((1 + 2) * 3 // 4 ** (1/2))\n",
    "\n",
    "sally_dit(\"et j'ai toujours en tête mes cours de math !\")\n",
    "import math\n",
    "sally_dit(\"ceci est un import, il permet d'étendre le langage à de nouveaux outils\")\n",
    "sally_dit(\"ici la bibliothèque standart de math de Python\")\n",
    "\n",
    "sally_dit(math.pi)"
   ]
  },
  {
   "attachments": {},
   "cell_type": "markdown",
   "metadata": {},
   "source": [
    "![Max](img/Max.png)"
   ]
  },
  {
   "cell_type": "code",
   "execution_count": null,
   "metadata": {},
   "outputs": [],
   "source": [
    "def max_dit(message):\n",
    "    print(colored(\"Max : {}\".format(message), 'blue'))\n",
    "\n",
    "# ceci est une déclaration de fonction, qui permet de\n",
    "# réutiliser du code, mais on y reviendra\n",
    "\n",
    "max_dit(\"Hey ! Salut vous deux !\")\n",
    "sally_dit(\"Salut Max ! Je te présente... {} !\".format(prenom))"
   ]
  },
  {
   "cell_type": "code",
   "execution_count": null,
   "metadata": {},
   "outputs": [],
   "source": [
    "max_dit(\"Salut {} !\".format(prenom))\n",
    "\n",
    "# on peut formater une variable dans une chaine de caractères\n",
    "# en utilisant des {} là où on veut passer unr variable\n",
    "# puis en ajoutant la variable par une méthode .format()\n"
   ]
  },
  {
   "cell_type": "code",
   "execution_count": null,
   "metadata": {},
   "outputs": [],
   "source": [
    "print(\"et toi tu fais quoi par ici ?\")\n",
    "max_dit(\"j'étudie la philosophie vois-tu, et en particulier la logique\")\n",
    "print(\"mais encore ?\")\n",
    "max_dit(\"et bien il est faux que 1 égale 2\")\n",
    "max_dit(1 == 2)\n",
    "max_dit(\"et tout aussi bien il est vrai que 1 égale 1\")\n",
    "max_dit(1 == 1)\n",
    "\n",
    "max_dit(\"== est un opérateur de comparaison,\")\n",
    "max_dit(\"à ne pas confondre avec = qui est un opérateur d'assignation\")\n",
    "max_dit(\"une telle opération est une condition\")\n",
    "max_dit(\"True et False représentent respectivement des conditions vraies et fausses.\")"
   ]
  },
  {
   "cell_type": "code",
   "execution_count": null,
   "metadata": {},
   "outputs": [],
   "source": [
    "max_dit(\"mais la philosophie ne s'arrête pas là\")\n",
    "print(\"ah oui ?\")\n",
    "max_dit(\"par exemple y a-t-il plus de 200 carottes ici ?\")\n",
    "max_dit(nombre_de_carottes > 200)\n",
    "\n",
    "max_dit(\"> >= < <= == sont des opérateurs de comparaison\")"
   ]
  },
  {
   "cell_type": "code",
   "execution_count": null,
   "metadata": {},
   "outputs": [],
   "source": [
    "max_dit(\"je travaille surtout à démêler le vrai du faux\")\n",
    "max_dit(\"tiens par exemple, avec l'opérateur ET\")\n",
    "\n",
    "max_dit(True and True)\n",
    "max_dit(True and False)\n",
    "max_dit(False and True)\n",
    "max_dit(False and False)\n",
    "\n",
    "max_dit(\"AND ne donne un résultat vrai que si les deux valeurs sont vraies.\")"
   ]
  },
  {
   "cell_type": "code",
   "execution_count": null,
   "metadata": {},
   "outputs": [],
   "source": [
    "max_dit(\"ou alors, avec l'opérateur OU\")\n",
    "\n",
    "max_dit(True or True)\n",
    "max_dit(True or False)\n",
    "max_dit(False or True)\n",
    "max_dit(False or False)\n",
    "\n",
    "max_dit(\"OR donne un résultat vrai que si au moins une des valeurs est vraie.\")"
   ]
  },
  {
   "cell_type": "code",
   "execution_count": null,
   "metadata": {},
   "outputs": [],
   "source": [
    "max_dit(\"ou enfin par la négation\")\n",
    "\n",
    "max_dit(not True)\n",
    "max_dit(not False)\n",
    "\n",
    "max_dit(\"and, or, not sont des opérateurs logiques\")"
   ]
  },
  {
   "cell_type": "code",
   "execution_count": null,
   "metadata": {},
   "outputs": [],
   "source": [
    "print(\"ok, je vois, c'est logique !\")\n",
    "max_dit(\"oui ! une petite question pour toi, y a-t-il plus de 100 carottes ET moins que 140 ?\")"
   ]
  },
  {
   "cell_type": "code",
   "execution_count": null,
   "metadata": {},
   "outputs": [],
   "source": [
    "# à toi de jouer !\n",
    "\n"
   ]
  },
  {
   "cell_type": "code",
   "execution_count": null,
   "metadata": {},
   "outputs": [],
   "source": [
    "sally_dit(\"je fais souvent appel à Max pour résoudre ces questions.\")"
   ]
  },
  {
   "cell_type": "code",
   "execution_count": null,
   "metadata": {},
   "outputs": [],
   "source": [
    "print(\"on néglige trop souvent la philosophie\")\n",
    "max_dit(\"c'est pourtant très utile pour prendre des décisions\")\n",
    "max_dit(\"qui auront des conséquences sur ses actes\")\n",
    "\n",
    "if True:\n",
    "    max_dit(\"je dis ce qui est vrai\")\n",
    "else:\n",
    "    max_dit(\"je dis ce qui est faux\")\n",
    "\n",
    "# cette structure est un test, qui va executer un bloc de code\n",
    "# ou un autre en fonction du résultat de la condition.\n",
    "# examinons la :\n",
    "\n",
    "# if <condition>: <- deux points\n",
    "# <des espaces><un bloc d'instructions>\n",
    "# else:           <- une clause sinon, optionnelle\n",
    "# <des espaces><un autre bloc d'instructions>\n",
    "\n",
    "# en Python les espaces écrits devant chaque ligne sont signifiants !\n",
    "# ils servent à délimiter les blocs.\n",
    "\n",
    "# ceci par exemple est erroné et ne marchera pas :\n",
    "# if True:\n",
    "# max_dit(\"je dis ce qui est vrai\")\n",
    "# else:\n",
    "# max_dit(\"je dis ce qui est faux\")"
   ]
  },
  {
   "cell_type": "code",
   "execution_count": null,
   "metadata": {},
   "outputs": [],
   "source": [
    "print(\"et du coup tu t'interesses aussi à la philosophie Sally ?\")\n",
    "sally_dit(\"ça m'aide grandement à prendre mes décisions\")\n",
    "\n",
    "if nombre_de_carottes < 30:\n",
    "    sally_dit(\"je retourne en chercher dans mon champ\")\n",
    "else:\n",
    "    sally_dit(\"j'ai assez de carottes pour aujourd'hui\")\n",
    "\n",
    "max_dit(\"le Python est executé ligne après ligne\")\n",
    "max_dit(\"mais des structures de controle telles que if permettent\")\n",
    "max_dit(\"de jouer sur l'ordre d'execution, et de sauter des lignes\")\n",
    "max_dit(\"ici la ligne comportant :\")\n",
    "max_dit(\"sally_dit('je retourne en chercher dans mon champ')\")\n",
    "max_dit(\"n'est pas executée.\")"
   ]
  },
  {
   "cell_type": "code",
   "execution_count": null,
   "metadata": {},
   "outputs": [],
   "source": [
    "print(\"et il faut toujours prévoir ce que l'on fera sinon ?\")\n",
    "sally_dit(\"ah non, pas forcément !\")\n",
    "\n",
    "if nombre_de_carottes % 6 == 0:\n",
    "    sally_dit(\"j'ai pile un nombre de carottes pour faire des bottes\")\n",
    "\n",
    "max_dit(\"la clause else est optionnelle\")"
   ]
  },
  {
   "cell_type": "code",
   "execution_count": null,
   "metadata": {},
   "outputs": [],
   "source": [
    "max_dit(\"on peut aussi différencier plus de cas\")\n",
    "\n",
    "if nombre_de_carottes < 30:\n",
    "    max_dit(\"Sally retourne au champ\")\n",
    "elif nombre_de_carottes < 300:\n",
    "    max_dit(\"Sally a bien assez de carottes\")\n",
    "else:\n",
    "    max_dit(\"catastrophe, Sally a encore ramené trop de carottes !\")\n",
    "\n"
   ]
  },
  {
   "cell_type": "code",
   "execution_count": null,
   "metadata": {},
   "outputs": [],
   "source": [
    "sally_dit(\"et si je cache les cagettes\")\n",
    "nombre_de_carottes = 29\n",
    "\n",
    "if nombre_de_carottes < 30:\n",
    "    max_dit(\"Sally retourne au champ\")\n",
    "elif nombre_de_carottes < 300:\n",
    "    max_dit(\"Sally a bien assez de carottes\")\n",
    "else:\n",
    "    max_dit(\"catastrophe, Sally a encore ramené trop de carottes !\")\n",
    "\n",
    "max_dit(\"dans une structure elif, les entrées sont mutuellement exclusives\")\n",
    "max_dit(\"bien que la condition nombre_de_carottes < 300 soit vraie\")\n",
    "max_dit(\"max_dit('Sally a bien assez de carottes') n'est pas executé\")"
   ]
  },
  {
   "cell_type": "code",
   "execution_count": null,
   "metadata": {},
   "outputs": [],
   "source": [
    "sally_dit(\"si j'ai des carottes qui ne sont pas dans une botte de 6, alors je dois dire 'carottes à l'unité !'\")"
   ]
  },
  {
   "cell_type": "code",
   "execution_count": null,
   "metadata": {},
   "outputs": [],
   "source": [
    "# à toi de jouer !\n",
    "\n"
   ]
  },
  {
   "cell_type": "markdown",
   "metadata": {},
   "source": [
    "![Carmen](img/Carmen.png)"
   ]
  },
  {
   "cell_type": "code",
   "execution_count": null,
   "metadata": {},
   "outputs": [],
   "source": [
    "def carmen_dit(message):\n",
    "    print(colored(\"Carmen : {}\".format(message), 'green'))\n",
    "\n",
    "# ceci est une déclaration de fonction, qui permet de\n",
    "# réutiliser du code, mais on y reviendra\n",
    "\n",
    "carmen_dit(\"Bonjour les amis !\")\n",
    "sally_dit(\"Bonjour Carmen !\")\n",
    "max_dit(\"Salut Carmen !\")\n",
    "sally_dit(\"Laisse moi te présenter {}\".format(prenom))"
   ]
  },
  {
   "cell_type": "code",
   "execution_count": null,
   "metadata": {},
   "outputs": [],
   "source": [
    "print(\"Bonjour Carmen ! toi aussi tu es philosophe ?\")\n",
    "carmen_dit(\"Oh la non pas du tout ! j'essaye d'écrire des chansons mais...\")\n",
    "print(\"mais ?\")\n",
    "carmen_dit(\"c'est difficile, je me perds souvent dans la structure...\")\n",
    "print(\"et si tu faisais une chanson sur Sally ?\")\n",
    "carmen_dit(\"peut être avec votre aide alors...\")"
   ]
  },
  {
   "cell_type": "code",
   "execution_count": null,
   "metadata": {},
   "outputs": [],
   "source": [
    "carmen_dit(\"\"\"\n",
    "Au cœur d'une ville charmante, où règne la beauté,\n",
    "Vit Sally, une vendeuse de légumes à l'âme animée.\n",
    "Elle arpente les étals, fière de sa récolte du jour,\n",
    "Des légumes colorés, frais et remplis d'amour.\n",
    "\"\"\")"
   ]
  },
  {
   "cell_type": "code",
   "execution_count": null,
   "metadata": {},
   "outputs": [],
   "source": [
    "sally_dit(\"wahoo tu es très forte ! je suis honorée !\")\n",
    "max_dit(\"bravo\")\n",
    "carmen_dit(\"oui bon mais je trouve des idées mais quand il faut faire des refrains et répéter, ba j'oublie tout\")"
   ]
  },
  {
   "cell_type": "code",
   "execution_count": null,
   "metadata": {},
   "outputs": [],
   "source": [
    "print(\"mais depuis tout à l'heure on utilise des variables, ça sert pas à ça ?\")\n",
    "\n",
    "premier_couplet = \"\"\"\n",
    "Au cœur d'une ville charmante, où règne la beauté,\n",
    "Vit Sally, une vendeuse de légumes à l'âme animée.\n",
    "Elle arpente les étals, fière de sa récolte du jour,\n",
    "Des légumes colorés, frais et remplis d'amour.\"\"\"\n",
    "\n",
    "print(\"oh ta chaine de caractères est sur plusieurs lignes, du coup tu utilises 3 guillemets !\")\n",
    "\n",
    "print(\"vas y Carmen ! Chante !\")\n",
    "carmen_dit(premier_couplet)\n"
   ]
  },
  {
   "cell_type": "code",
   "execution_count": null,
   "metadata": {},
   "outputs": [],
   "source": [
    "carmen_dit(\"oh oui c'est chouette de se souvenir de tout !\")\n",
    "carmen_dit(\"pour la suite je voudrais rendre hommage à tes légumes Sally\")\n",
    "sally_dit(\"j'ai du choux, des laitues, des carottes bien sûr et...\")\n",
    "carmen_dit(\"attend, attend, il faut que je me souvienne !\")\n",
    "\n",
    "legumes = [\"topinambours\", \"choux\", \"pois gourmands\", \"laitues\", \"pleurottes\", \"carottes\"]\n",
    "carmen_dit(legumes)\n",
    "\n",
    "carmen_dit(\"legumes est une variable contenant une liste de chaines de caractères\")\n",
    "carmen_dit(\"c'est une structure de données qui permet de mémoriser plusieurs informations.\")\n",
    "carmen_dit(\"on délimite une liste avec des crochets et on sépare les éléments avec des virgules\")\n",
    "carmen_dit(\"le nom d'une liste doit souvent être un pluriel !\")"
   ]
  },
  {
   "cell_type": "code",
   "execution_count": null,
   "metadata": {},
   "outputs": [],
   "source": [
    "# à toi de jouer !\n",
    "\n",
    "# crée une liste de titres des chansons que tu aimes\n",
    "\n",
    "mes_chansons = []"
   ]
  },
  {
   "cell_type": "code",
   "execution_count": null,
   "metadata": {},
   "outputs": [],
   "source": [
    "carmen_dit(\"du coup pour le refrain je tente un truc :\")\n",
    "\n",
    "refrain = \"Oh Sally tu fais notre joie avec tes {}\"\n",
    "\n",
    "for legume in legumes:\n",
    "  carmen_dit(refrain.format(legume))\n",
    "\n",
    "carmen_dit(\"ceci est une boucle for in:\")\n",
    "carmen_dit(\"elle enumère tous les elements contenus dans la liste\")\n",
    "carmen_dit(\"et execute le bloc qu'elle contient sur chacun d'eux\")\n",
    "carmen_dit(\"legumes avec S c'est la liste, legume sans S c'est un élément\")\n",
    "\n",
    "# examinons la :\n",
    "# for <élément> in <liste>: <- deux points\n",
    "# <des espaces><un bloc d'instructions utilisant l'élément>\n",
    "\n",
    "# en Python les espaces écrits devant chaque ligne sont signifiants !\n",
    "# ils servent à délimiter les blocs."
   ]
  },
  {
   "cell_type": "code",
   "execution_count": null,
   "metadata": {},
   "outputs": [],
   "source": [
    "# à toi de jouer !\n",
    "\n",
    "# affiche des lignes distinctes tes chansons préférées"
   ]
  },
  {
   "cell_type": "code",
   "execution_count": null,
   "metadata": {},
   "outputs": [],
   "source": [
    "max_dit(\"bravo c'est très beau ! qu'est ce que ça donne si on reprend depuis le début ?\")\n",
    "\n",
    "carmen_dit(premier_couplet)\n",
    "for legume in legumes:\n",
    "  carmen_dit(refrain.format(legume))"
   ]
  },
  {
   "cell_type": "code",
   "execution_count": null,
   "metadata": {},
   "outputs": [],
   "source": [
    "carmen_dit(\"j'ai une idée pour le prochain couplet, mais j'ai peur de perdre la structure...\")\n",
    "print(\"ne t'inquiète pas on va t'aider, déjà dis nous ton idée !\")\n",
    "\n",
    "second_couplet = \"\"\"\n",
    "Passionnée par les chiffres, Sally aime compter,\n",
    "Chaque légume vendu, elle le fait avec gaieté.\n",
    "Elle tient ses comptes avec précision et rigueur,\n",
    "Dans son univers de légumes, elle est la meilleure.\"\"\"\n",
    "\n",
    "carmen_dit(second_couplet)"
   ]
  },
  {
   "cell_type": "code",
   "execution_count": null,
   "metadata": {},
   "outputs": [],
   "source": [
    "sally_dit(\"et depuis le début ?\")\n",
    "\n",
    "carmen_dit(premier_couplet)\n",
    "for legume in legumes:\n",
    "  carmen_dit(refrain.format(legume))\n",
    "carmen_dit(second_couplet)\n",
    "for legume in legumes:\n",
    "  carmen_dit(refrain.format(legume))"
   ]
  },
  {
   "cell_type": "code",
   "execution_count": null,
   "metadata": {},
   "outputs": [],
   "source": [
    "print(\"regarde Carmen, les couplets forment peut-être une structure aussi ?\")\n",
    "\n",
    "couplets = [premier_couplet, second_couplet]\n",
    "\n",
    "print(\"si on le voit comme ça, ta chanson devient :\")\n",
    "\n",
    "for couplet in couplets:\n",
    "  carmen_dit(couplet)\n",
    "  for legume in legumes:\n",
    "    carmen_dit(refrain.format(legume))"
   ]
  },
  {
   "cell_type": "code",
   "execution_count": null,
   "metadata": {},
   "outputs": [],
   "source": [
    "carmen_dit(\"merci je commence à voir la structure !\")\n",
    "carmen_dit(\"mais comment j'ajoute un couplet maintenant ?\")\n",
    "sally_dit(\"il faudrait l'ajouter à la liste !\")\n",
    "\n",
    "couplets.append(\"\"\"\n",
    "Elle connaît chaque légume comme un trésor,\n",
    "Leur histoire, leurs bienfaits, elle en est le décor.\n",
    "Avec son esprit organisé, elle guide les clients,\n",
    "Dans le choix des légumes, avec enthousiasme vibrant.\"\"\")\n",
    "\n",
    "carmen_dit(\"append est une méthode qui ajoute ce qui est passé en argument entre ()\")\n",
    "carmen_dit(\"à la liste couplets.\")\n",
    "\n",
    "carmen_dit(\"les listes, mais aussi les chaines de caractères et pleins d'autres choses ont des méthodes.\")\n",
    "\n",
    "carmen_dit(\"j'ai combien de couplets à présent ?\")\n",
    "sally_dit(len(couplets))\n",
    "\n",
    "carmen_dit(\"len est une fonction qui appliquée à une liste donne sa taille\")"
   ]
  },
  {
   "cell_type": "code",
   "execution_count": null,
   "metadata": {},
   "outputs": [],
   "source": [
    "carmen_dit(\"ce qui est fou c'est à quel point c'est plus court quand c'est structuré\")\n",
    "carmen_dit(\"mais je peux retrouver un couplet sans tout chanter ?\")\n",
    "\n",
    "sally_dit(\"oui tu peux, le premier c'est {}\".format(couplets[0]))\n",
    "\n",
    "# en ajoutant [0] à une liste on accède à un élément \n",
    "# en fonction de sa place dans la liste.\n",
    "\n",
    "# en informatique on compte à partir de zéro, sans doute juste \n",
    "# pour ne pas faire comme tout le monde. Voilà.\n",
    "\n",
    "sally_dit(\"du coup le suivant c'est {}\".format(couplets[1]))\n",
    "\n",
    "# du coup attention, l'élément [1] est le second element de la liste. Voilà.\n",
    "\n",
    "sally_dit(\"et le dernier c'est {}\".format(couplets[-1]))\n",
    "\n",
    "# très pratique, l'élement -1 est le dernier de la liste."
   ]
  },
  {
   "cell_type": "code",
   "execution_count": null,
   "metadata": {},
   "outputs": [],
   "source": [
    "carmen_dit(\"et si maintenant je veux rechanter le premier couplet juste avant le dernier ?\")\n",
    "max_dit(\"alors fait appel à la philosophie !\")\n",
    "\n",
    "for couplet in couplets:\n",
    "    if couplet == couplets[-1]:\n",
    "        carmen_dit(couplets[0])  \n",
    "    carmen_dit(couplet)\n",
    "    for legume in legumes:\n",
    "        carmen_dit(refrain.format(legume))"
   ]
  },
  {
   "cell_type": "code",
   "execution_count": null,
   "metadata": {},
   "outputs": [],
   "source": [
    "print(\"bravo c'est très bien ! ta chanson est terminée !\")\n",
    "carmen_dit(\"ba non, il manque la musique !\")\n",
    "carmen_dit(\"j'ai besoin de compter jusqu'à 4 pour le rythme\")\n",
    "\n",
    "for i in range(1, 4):\n",
    "    carmen_dit(i)\n",
    "\n",
    "# range un est moyen de générer des séries de nombres"
   ]
  },
  {
   "cell_type": "code",
   "execution_count": null,
   "metadata": {},
   "outputs": [],
   "source": [
    "carmen_dit(\"mince ! je voulais compter jusqu'à 4 pas jusqu'à 3\")\n",
    "\n",
    "for i in range(1, 5):\n",
    "    carmen_dit(i)\n",
    "\n",
    "# le premier argument, 1, est le point de départ de la série\n",
    "# le second argument, 5, est l'élément suivant le dernier.\n",
    "# pourquoi ? en informatique on compte à partir de zéro,\n",
    "# et on arrête les boucles à l'élément de trop. Voilà."
   ]
  },
  {
   "cell_type": "code",
   "execution_count": null,
   "metadata": {},
   "outputs": [],
   "source": [
    "carmen_dit(\"{} merci beaucoup ! tu m'as aidée à prendre confiance sur les structures\".format(prenom))\n",
    "carmen_dit(\"j'aimerais beaucoup que tu ajoutes un couplet à ma chanson et qu'on la re-chante\")\n"
   ]
  },
  {
   "cell_type": "code",
   "execution_count": null,
   "metadata": {},
   "outputs": [],
   "source": [
    "# à toi de jouer !\n",
    "\n"
   ]
  },
  {
   "cell_type": "code",
   "execution_count": null,
   "metadata": {},
   "outputs": [],
   "source": [
    "carmen_dit(\"oh bravo {} !\".format(prenom))\n",
    "carmen_dit(\"j'aimerais que tu égraines les lettres du mot SALLY après chaque refrain\")"
   ]
  },
  {
   "cell_type": "code",
   "execution_count": null,
   "metadata": {},
   "outputs": [],
   "source": [
    "# à toi de jouer !\n",
    "\n"
   ]
  },
  {
   "cell_type": "code",
   "execution_count": null,
   "metadata": {},
   "outputs": [],
   "source": [
    "carmen_dit(\"j'ai à présent une belle chanson !\")\n",
    "carmen_dit(\"en plus elle est assez longue parce qu'elle a {} couplets\".format(len(couplets)))\n",
    "\n",
    "carmen_dit(\"la fonction len() donne la taille d'une liste\")"
   ]
  },
  {
   "cell_type": "code",
   "execution_count": null,
   "metadata": {},
   "outputs": [],
   "source": [
    "max_dit(\"mmmmh, on pourrait refaire une boucle avec de la philosophie\")\n",
    "max_dit(\"car, après tout, une boucle n'est ce pas qu'un if qui se répète ?\")\n",
    "\n",
    "if (nombre_de_carottes > 6):\n",
    "    sally_dit(\"j'ai {} carottes, je vous vends une botte\".format(nombre_de_carottes))\n",
    "    nombre_de_carottes = nombre_de_carottes - 6\n",
    "\n",
    "# un if ne se répète pas\n",
    "\n",
    "while (nombre_de_carottes > 6):\n",
    "    sally_dit(\"il me reste encore {} carottes, je vous vends une botte\".format(nombre_de_carottes))\n",
    "    nombre_de_carottes = nombre_de_carottes - 6\n",
    "\n",
    "# une boucle while est un if qui se répète tant que la condition est vraie\n",
    "\n",
    "sally_dit(\"Voilà ! il me reste plus que {} carottes\".format(nombre_de_carottes))"
   ]
  },
  {
   "cell_type": "code",
   "execution_count": null,
   "metadata": {},
   "outputs": [],
   "source": [
    "carmen_dit(\"je ne peux pas m'empêcher de continuer à réfléchir à ma chanson\")\n",
    "carmen_dit(\"j'ai envie d'ajouter des légumes à chaque refrain, pas tout d'un coup\")\n",
    "\n",
    "carmen_dit(legumes[:2])\n",
    "carmen_dit(legumes[:4])\n",
    "carmen_dit(legumes[:6])\n",
    "\n",
    "sally_dit(\"oh tu fais des tranches dans la liste comme moi dans mes légumes\")\n",
    "\n",
    "# ce type de manipulation de liste s'appelle du slicing"
   ]
  },
  {
   "cell_type": "code",
   "execution_count": null,
   "metadata": {},
   "outputs": [],
   "source": [
    "carmen_dit(\"mais là je bloque, comment j'intègre ça dans ma chanson ?\")\n",
    "sally_dit(\"il faudrait compter les refrains peut-être ?\")\n",
    "carmen_dit(\"j'essaye\")\n",
    "\n",
    "index = 0\n",
    "for couplet in couplets:\n",
    "    index = index + 1\n",
    "    carmen_dit(legumes[:index])"
   ]
  },
  {
   "cell_type": "code",
   "execution_count": null,
   "metadata": {},
   "outputs": [],
   "source": [
    "print(\"ou alors faire comme dans d'autres langages, je vous montre\")\n",
    "\n",
    "for index in range(len(couplets)):\n",
    "    print(legumes[:index + 1])"
   ]
  },
  {
   "cell_type": "code",
   "execution_count": null,
   "metadata": {},
   "outputs": [],
   "source": [
    "max_dit(\"ça marche mais ça ne se fait pas par ici.\")\n",
    "max_dit(\"A HappyTown on parle Python et on essaye de garder un accent pythonic\")\n",
    "max_dit(\"je ne sais pas comment mieux vous dire, de sonner comme du Python\")\n",
    "max_dit(\"et pas comme d'autres langages\")\n",
    "\n",
    "sally_dit(\"max a raison, on n'aime pas trop passer par les index pour enumérer\")\n",
    "sally_dit(\"ou alors, à notre façon\")\n",
    "\n",
    "for index, couplet in enumerate(couplets, start = 1):\n",
    "    sally_dit(legumes[:index])\n",
    "\n",
    "# enumerate est une fonction qui prend pour paramètre une liste\n",
    "# et qui renvoit des tuples, c'est à dire plusieurs valeurs, ici\n",
    "# donnant l'index et l'élément.\n",
    "\n",
    "# start = 1 est un paramètre nommé ! il est optionnel et il permet\n",
    "# de ne pas commencer à zéro. Voilà."
   ]
  },
  {
   "cell_type": "code",
   "execution_count": null,
   "metadata": {},
   "outputs": [],
   "source": [
    "carmen_dit(\"ça me parle complètement car en tant qu'autrice le style m'importe !\")\n",
    "\n",
    "for index, couplet in enumerate(couplets, start = 1):\n",
    "    if couplet == couplets[-1]:\n",
    "        carmen_dit(couplets[0])  \n",
    "    carmen_dit(couplet)\n",
    "    for legume in legumes[:index * 2]:\n",
    "        carmen_dit(refrain.format(legume))\n",
    "\n",
    "# ici on a plusieurs niveaux d'indentation, c'est à dire de retrait en début de ligne\n",
    "# ce sont ces espaces, cette indentation qui détermine comment le code s'imprique\n",
    "# ici if couplet... et for legume... sont dans la boucle for index..."
   ]
  },
  {
   "cell_type": "code",
   "execution_count": null,
   "metadata": {},
   "outputs": [],
   "source": [
    "sally_dit(\"puisque tu as commencé le slicing, tu pourrais aller plus loin\")\n",
    "\n",
    "sally_dit(\"déjà, toute la liste\")\n",
    "sally_dit(legumes[::])\n",
    "\n",
    "sally_dit(\"maintenant sans le premier ni le dernier !\")\n",
    "sally_dit(legumes[1:5])\n",
    "\n",
    "sally_dit(\"puis seulement un sur deux !\")\n",
    "sally_dit(legumes[::2])\n",
    "\n",
    "sally_dit(\"et maintenant plus renversant, à l'envers !\")\n",
    "sally_dit(legumes[::-1])\n",
    "\n",
    "# les slices peuvent être composés en choisissant [debut:fin:pas]"
   ]
  },
  {
   "cell_type": "code",
   "execution_count": null,
   "metadata": {},
   "outputs": [],
   "source": [
    "# à toi de jouer !\n",
    "\n",
    "# utilise le slicing pour afficher une partie de la liste de légumes"
   ]
  },
  {
   "cell_type": "code",
   "execution_count": null,
   "metadata": {},
   "outputs": [],
   "source": [
    "max_dit(\"ce sont de bien belles acrobaties\")\n",
    "max_dit(\"je n'ai de mon côté qu'un peu de sagesse à offrir\")\n",
    "max_dit(\"car il est bon de savoir ce qui est et ce qui n'est pas dans la liste\")\n",
    "\n",
    "max_dit(\"aubergines\" in legumes)\n",
    "max_dit(\"carottes\" in legumes)"
   ]
  },
  {
   "cell_type": "code",
   "execution_count": null,
   "metadata": {},
   "outputs": [],
   "source": [
    "# à toi de jouer !\n",
    "\n",
    "# vérifie que la liste de légumes ne contient pas de clé à molette"
   ]
  },
  {
   "cell_type": "markdown",
   "metadata": {},
   "source": [
    "![hello](img/Peter.png)"
   ]
  },
  {
   "cell_type": "code",
   "execution_count": null,
   "metadata": {},
   "outputs": [],
   "source": [
    "def peter_dit(message):\n",
    "    print(colored(\"Peter : {}\".format(message), 'magenta'))\n",
    "\n",
    "# ceci est une déclaration de fonction, qui permet de\n",
    "# réutiliser du code, mais on y reviendra\n",
    "\n",
    "peter_dit(\"bonjour les amis !\")\n",
    "sally_dit(\"Hey !\")\n",
    "max_dit(\"Bonjour Peter !\")\n",
    "carmen_dit(\"salut !\")\n",
    "sally_dit(\"il faut que l'on te présente {}\".format(prenom))"
   ]
  },
  {
   "cell_type": "code",
   "execution_count": null,
   "metadata": {},
   "outputs": [],
   "source": [
    "peter_dit(\"ou la la... je vois je vois, une nouvelle personne, c'est important ça !\")\n",
    "peter_dit(\"je suis fonctionnaire à la mairie de Happy Town\")\n",
    "peter_dit(\"je dois justement mettre en forme la procédure pour l'accueil...\")\n",
    "print(\"c'est peut-être l'occasion de la créer ensemble ?\")\n",
    "peter_dit(\"bien bien... ça m'aidrait beaucoup ça, c'est que, dans l'administration\")\n",
    "peter_dit(\"on fait parfois des procédures compliquées\")"
   ]
  },
  {
   "cell_type": "code",
   "execution_count": null,
   "metadata": {},
   "outputs": [],
   "source": [
    "peter_dit(\"bien bien... d'abord l'accueil doit prendre en compte le prénom de la personne\")\n",
    "\n",
    "def accueillir(prenom):\n",
    "  peter_dit(\"puisses tu {} apprécier Happy Town !\".format(prenom))\n",
    "\n",
    "peter_dit(\"ici on définit une fonction. Une fonction est un bloc de code réutilisable\")\n",
    "peter_dit(\"à qui on donne un nom - ici accueillir - et éventuellement des paramètres\")\n",
    "peter_dit(\"- ici prenom. Ces paramètres permettent à la fonction d'agir différement.\")\n",
    "\n",
    "# examinons la :\n",
    "# def <nom de la fonction>(premier argument, second argument, ...): <- deux points\n",
    "# <des espaces><un bloc d'instructions utilisant les arguments>\n",
    "\n",
    "# en Python les espaces écrits devant chaque ligne sont signifiants !\n",
    "# ils servent à délimiter les blocs."
   ]
  },
  {
   "cell_type": "code",
   "execution_count": null,
   "metadata": {},
   "outputs": [],
   "source": [
    "print(\"mais il ne s'est rien passé ? tu n'as pas dit la phrase 'puisses tu apprécier Happy Town'...\")\n",
    "peter_dit(\"et bien non non, j'ai défini comment accueillir, je n'ai pas encore fait usage de cette procédure.\")\n",
    "sally_dit(\"est ce que tu pourrais essayer sur moi ?\")\n",
    "accueillir(\"Sally\")\n",
    "\n",
    "peter_dit(\"nous autre dans l'administration créons des procédures qui s'appliquent à tout le monde\")\n",
    "peter_dit(\"simplement on les personnalise au cas par cas, ici en lui disant que le prénom est Sally\")\n"
   ]
  },
  {
   "cell_type": "code",
   "execution_count": null,
   "metadata": {},
   "outputs": [],
   "source": [
    "print(\"c'est un peu étrange pour moi, d'habitude le prénom c'est le mien, c'est {}\".format(prenom))\n",
    "\n",
    "peter_dit(\"bien... bien... tout dépend du contexte.\")\n",
    "peter_dit(\"la variable prenom à l'intérieur de la fonction accueillir n'est pas la même qu'à l'extérieur\")\n",
    "peter_dit(\"une fonction crée un contexte où existent ses propres variables, c'est son scope\")\n",
    "peter_dit(\"sinon ce serait très complexe, il faudrait à chaque fois inventer des noms differents\")\n",
    "peter_dit(\"et dans l'administration on aime les procédures simples !\")"
   ]
  },
  {
   "cell_type": "code",
   "execution_count": null,
   "metadata": {},
   "outputs": [],
   "source": [
    "peter_dit(\"mais c'est loin d'être terminé !\")\n",
    "peter_dit(\"il faut aussi demander l'age de la personne car c'est important\")\n",
    "print(\"pour accueillir ?\")\n",
    "peter_dit(\"évidement pour accueillir, on accueille pas les gens de la même façon suivant leurs ages !\")\n",
    "print(\"selon s'ils sont jeunes ou vieux ?\")\n",
    "peter_dit(\"pas directement non, bon par exemple si ton age est pair c'est important de dire :\")\n",
    "peter_dit(\"Deux fois enchanté, cher ami ! Que votre journée soit aussi belle qu'une paire de lapins qui dansent sous la lune.\")\n",
    "sally_dit(\"très honorée...\")\n",
    "print(\"...ok du coup ajoutons le à la procédure ?\")"
   ]
  },
  {
   "cell_type": "code",
   "execution_count": null,
   "metadata": {},
   "outputs": [],
   "source": [
    "def accueillir(prenom, age):\n",
    "  if age % 2 == 0:\n",
    "    peter_dit(\"Deux fois enchanté, cher ami ! Que votre journée soit aussi belle qu'une paire de lapins qui dansent sous la lune.\")\n",
    "  peter_dit(\"puisses tu {} apprécier Happy Town !\".format(prenom))"
   ]
  },
  {
   "cell_type": "code",
   "execution_count": null,
   "metadata": {},
   "outputs": [],
   "source": [
    "peter_dit(\"quel est ton age, dis ?\")"
   ]
  },
  {
   "cell_type": "code",
   "execution_count": null,
   "metadata": {},
   "outputs": [],
   "source": [
    "# à vous de jouer\n",
    "\n",
    "age = 0"
   ]
  },
  {
   "cell_type": "code",
   "execution_count": null,
   "metadata": {},
   "outputs": [],
   "source": [
    "accueillir(prenom, age)"
   ]
  },
  {
   "cell_type": "code",
   "execution_count": null,
   "metadata": {},
   "outputs": [],
   "source": [
    "max_dit(\"Comme j'apprécie de voir en oeuvre la philosophie !\")\n",
    "sally_dit(\"et moi les nombres, tiens !\")\n",
    "print(\"et si je te demandais d'accueillir quelqu'un d'autre tu pourrais ?\") "
   ]
  },
  {
   "cell_type": "code",
   "execution_count": null,
   "metadata": {},
   "outputs": [],
   "source": [
    "# à toi de jouer !\n",
    "# utilise la fonction accueillir pour créer un nouvel accueil\n",
    "\n",
    "accueillir(\"Marie\", 29)"
   ]
  },
  {
   "cell_type": "code",
   "execution_count": null,
   "metadata": {},
   "outputs": [],
   "source": [
    "print(\"et bien voilà c'est fini, tu as ta procédure !\")\n",
    "peter_dit(\"oh loin de là, les règles de la bienséance sont bien plus nombreuses à Happy Town\")\n",
    "print(\"vraiment... ?\")\n",
    "peter_dit(\"par exemple si l'age est un multiple de 3 il faut dire...\")\n",
    "print(\"ne pourrait-on pas le coder directement ?\")\n"
   ]
  },
  {
   "cell_type": "code",
   "execution_count": null,
   "metadata": {},
   "outputs": [],
   "source": [
    "def accueillir(prenom, age):\n",
    "  if age % 2 == 0:\n",
    "    peter_dit(\"Deux fois enchanté, cher ami ! Que votre journée soit aussi belle qu'une paire de lapins qui dansent sous la lune.\")\n",
    "  if age % 3 == 0:\n",
    "    peter_dit(\"Trio-sympathique ! J'espère que vous passez une journée aussi ensoleillée que trois sourires de chatons.\")\n",
    "  peter_dit(\"puisses tu {} apprécier Happy Town !\".format(prenom))\n",
    "\n",
    "accueillir(prenom, age)"
   ]
  },
  {
   "cell_type": "code",
   "execution_count": null,
   "metadata": {},
   "outputs": [],
   "source": [
    "carmen_dit(\"on dirait qu'il y a des choses qui se répètent ici, qu'on pourrait structurer\")\n",
    "carmen_dit(\"on cherche deux fois si un age est divisible par des chiffres différents\")\n",
    "carmen_dit(\"on pourrait en faire une fonction !\")\n",
    "peter_dit(\"oh mais quelle bonne idée !\")\n",
    "\n",
    "def divisible(number, modulus):\n",
    "  return number % modulus == 0\n",
    "\n",
    "print(\"c'est une autre fonction ?\")\n",
    "print(\"et dans le contexte de cette fonction le premier argument n'est pas un age mais juste un nombre\")\n",
    "print(\"et le second est le chiffre avec lequel on cherche le reste de division\")\n",
    "print(\"mais qu'est ce que ça veux dire return ?\")\n",
    "peter_dit(\"bien ça signifie que la fonction renvoit un resultat, ici une condition\")\n"
   ]
  },
  {
   "cell_type": "code",
   "execution_count": null,
   "metadata": {},
   "outputs": [],
   "source": [
    "def accueillir(prenom, age):\n",
    "  if divisible(age, 2):\n",
    "    peter_dit(\"Deux fois enchanté, cher ami ! Que votre journée soit aussi belle qu'une paire de lapins qui dansent sous la lune.\")\n",
    "  if divisible(age, 3):\n",
    "    peter_dit(\"Trio-sympathique ! J'espère que vous passez une journée aussi ensoleillée que trois sourires de chatons.\")\n",
    "  peter_dit(\"puisses tu {} apprécier Happy Town !\".format(prenom))\n"
   ]
  },
  {
   "cell_type": "code",
   "execution_count": null,
   "metadata": {},
   "outputs": [],
   "source": [
    "print(\"mais alors... l'age de la fonction accueillir devient le number de la fonction divisible !\")\n",
    "peter_dit(\"oui c'est la même information qui est transmise, qui change de contexte.\")\n",
    "print(\"et c'est quoi exactement que renvoit la fonction divisible ?\")\n",
    "sally_dit(\"elle fait le calcul et renvoit le resultat, un boolean, True ou False\")\n",
    "max_dit(\"qui sera utilisé pour la condition, voilà !\")\n",
    "print(\"et accueillr il ne renvoit rien ?\")\n",
    "peter_dit(\"non pas necessairement, il fait quelque chose mais ne renvoit pas de résultat\")"
   ]
  },
  {
   "cell_type": "code",
   "execution_count": null,
   "metadata": {},
   "outputs": [],
   "source": [
    "print(\"je commence à supposer que c'est loin d'être fini cette procédure de salutation ?\")\n",
    "peter_dit(\"bien oui... voilà ce que ça donne si je mets tout\")\n",
    "\n",
    "def accueillir(prenom, age):\n",
    "  if divisible(age, 2):\n",
    "    peter_dit(\"Deux fois enchanté, cher ami ! Que votre journée soit aussi belle qu'une paire de lapins qui dansent sous la lune.\")\n",
    "  if divisible(age, 3):\n",
    "    peter_dit(\"Trio-sympathique ! J'espère que vous passez une journée aussi ensoleillée que trois sourires de chatons.\")\n",
    "  if divisible(age, 5):\n",
    "    peter_dit(\"Cinq-lutations distinguées ! Puissiez-vous avoir autant de chance qu'un trèfle à cinq feuilles.\")\n",
    "  if divisible(age, 7):\n",
    "    peter_dit(\"Sept-ravissant de vous rencontrer ! Aussi inattendues qu'une girafe jonglant avec des pommes.\")\n",
    "  if divisible(age, 11):\n",
    "    peter_dit(\"Onze-chanteur ! Que la mélodie de la vie vous transporte comme un orchestre de pingouins symphoniques.\")\n",
    "  if divisible(age, 17):\n",
    "    peter_dit(\"Dix-sept-ation ! Que votre journée soit aussi palpitante qu'un manchot en costume de gala.\")\n",
    "  peter_dit(\"puisses tu {} apprécier Happy Town !\".format(prenom))"
   ]
  },
  {
   "cell_type": "code",
   "execution_count": null,
   "metadata": {},
   "outputs": [],
   "source": [
    "sally_dit(\"et 13 !? c'est un nombre premier aussi 13 !!! pourquoi il y a rien ?\")\n",
    "peter_dit(\"oh mais désolé je ne sais pas pourquoi mais je peux t'assurer qu'il n'y a rien\")\n",
    "sally_dit(\"ah bon... un peu déçue...\")\n",
    "peter_dit(\"je me lance :\")\n",
    "\n",
    "accueillir(prenom, age)"
   ]
  },
  {
   "cell_type": "code",
   "execution_count": null,
   "metadata": {},
   "outputs": [],
   "source": [
    "carmen_dit(\"il y a comme une répétition dans la procédure, on pourrait l'améliorer avec plus de structure\")\n",
    "peter_dit(\"oh mais parfait ! mais comment ?\")\n",
    "carmen_dit(\"en répétant le if on semble dessiner une boucle, vous ne trouvez pas ?\")\n",
    "print(\"mais c'est compliqué, là deux choses varient, le nombre premier et la salutation\")\n",
    "carmen_dit(\"il faudrait une structure pour mettre ensemble les deux\")\n",
    "peter_dit(\"je crois que j'ai ça à la mairie : un dictionnaire !\")"
   ]
  },
  {
   "cell_type": "code",
   "execution_count": null,
   "metadata": {},
   "outputs": [],
   "source": [
    "peter_dit(\"je crée un dictionnaire de salutations, avec des accolades courbes\")\n",
    "salutations = {}\n",
    "print(\"ça ressemble à une liste ?\")\n",
    "peter_dit(\"un peu en effet mais vois plutôt\")\n",
    "\n",
    "peter_dit(\"comme pour une liste je dis que la salutation associée à 2 est Deux fois enchanté...\")\n",
    "salutations[2] = \"Deux fois enchanté, cher ami ! Que votre journée soit aussi belle qu'une paire de lapins qui dansent sous la lune.\"\n",
    "print(salutations)"
   ]
  },
  {
   "cell_type": "code",
   "execution_count": null,
   "metadata": {},
   "outputs": [],
   "source": [
    "peter_dit(\"puis je dis pour 3\")\n",
    "salutations[3] = \"Trio-sympathique ! J'espère que vous passez une journée aussi ensoleillée que trois sourires de chatons.\"\n",
    "print(salutations)\n",
    "print(\"ok on se souvient des deux\")"
   ]
  },
  {
   "cell_type": "code",
   "execution_count": null,
   "metadata": {},
   "outputs": [],
   "source": [
    "peter_dit(\"puis toutes les autres\")\n",
    "salutations[5] = \"Cinq-lutations distinguées ! Puissiez-vous avoir autant de chance qu'un trèfle à cinq feuilles.\"\n",
    "salutations[7] = \"Sept-ravissant de vous rencontrer ! Aussi inattendues qu'une girafe jonglant avec des pommes.\"\n",
    "salutations[11] = \"Onze-chanteur ! Que la mélodie de la vie vous transporte comme un orchestre de pingouins symphoniques.\"\n",
    "salutations[17] = \"Dix-sept-ation ! Que votre journée soit aussi palpitante qu'un manchot en costume de gala.\"\n",
    "\n",
    "print(salutations)\n",
    "print(\"il ya tout ! mais qu'est ce qu'on en fait ?\")"
   ]
  },
  {
   "cell_type": "code",
   "execution_count": null,
   "metadata": {},
   "outputs": [],
   "source": [
    "carmen_dit(\"on peut alors écrire ceci :\")\n",
    "def accueillir(prenom, age):\n",
    "  for modulus in salutations:\n",
    "    if divisible(age, modulus):\n",
    "      peter_dit(salutations[modulus])\n",
    "  peter_dit(\"puisses tu {} apprécier Happy Town !\".format(prenom))\n",
    "\n",
    "accueillir(prenom, age)"
   ]
  },
  {
   "cell_type": "code",
   "execution_count": null,
   "metadata": {},
   "outputs": [],
   "source": [
    "peter_dit(\"c'est quand même bien plus court de l'exprimer comme ça\")\n",
    "carmen_dit(\"salutations est une variable définie ailleurs, ce serait classe de la réunir avec la fonction\")\n",
    "print(\"peut-être plus tard alors pour faire de la programmation classe !\")\n",
    "\n",
    "# pour regrouper les fonctions et les variables, en Python on peut créer des classes."
   ]
  },
  {
   "cell_type": "code",
   "execution_count": null,
   "metadata": {},
   "outputs": [],
   "source": [
    "sally_dit(\"elle est très bien cette procédure, mais dommage que seul Peter salue ainsi\")\n",
    "print(\"qu'est ce que tu voudrais faire, la dupliquer pour toi ?\")\n",
    "sally_dit(\"ce qui serait chic c'est que la fonction accueillir nous donne le bon texte\")\n",
    "sally_dit(\"et que tout le monde parmi nous puisse le dire !\")\n",
    "max_dit(\"ce serait formidable en effet !\")"
   ]
  },
  {
   "cell_type": "code",
   "execution_count": null,
   "metadata": {},
   "outputs": [],
   "source": [
    "max_dit(\"il faudrait alors que la fonction acceuillir renvoie le texte\")\n",
    "\n",
    "def accueillir(prenom, age):\n",
    "  texte = []\n",
    "  for modulus in salutations:\n",
    "    if divisible(age, modulus):\n",
    "      texte.append(salutations[modulus])\n",
    "  texte.append(\"puisses tu {} apprécier Happy Town !\".format(prenom))\n",
    "  return texte\n",
    "\n",
    "accueillir(prenom, age)"
   ]
  },
  {
   "cell_type": "code",
   "execution_count": null,
   "metadata": {},
   "outputs": [],
   "source": [
    "print(\"comme ça tout le monde peut accueillir, je peux même m'accueillir moi même tiens !\")\n",
    "\n",
    "for phrase in accueillir(prenom, age):\n",
    "  print(phrase)\n",
    "\n",
    "sally_dit(\"à mon tour !\")\n",
    "\n",
    "for phrase in accueillir(prenom, age):\n",
    "  sally_dit(phrase)"
   ]
  },
  {
   "cell_type": "code",
   "execution_count": null,
   "metadata": {},
   "outputs": [],
   "source": [
    "[carmen_dit(phrase) for phrase in accueillir(prenom, age)]\n",
    "carmen_dit(\"comme ceci je viens de t'acceuillir à mon tour, avec un petit accent pythonic\")\n",
    "print(\"pythonic ?\")\n",
    "carmen_dit(\"avec l'accent d'Happy Town, pas comme les autres langages\")\n",
    "carmen_dit(\"je viens de prononcer une compréhension de liste, un truc typique d'ici\")"
   ]
  },
  {
   "cell_type": "code",
   "execution_count": null,
   "metadata": {},
   "outputs": [],
   "source": [
    "carmen_dit(\"une compréhension de liste c'est avant tout un moyen de transformer une liste en une autre\")\n",
    "carmen_dit(\"en appliquant par exemple un traitement à chaque élément.\")\n",
    "sally_dit(\"on pourrait mettre au carré dites, j'aime bien mettre des nombres au carré...\")\n",
    "carmen_dit(\"ok volontiers, alors partons de la liste suivante\")\n",
    "\n",
    "nombres_premiers = [2, 3, 5, 7, 11, 13, 17]\n",
    "carmen_dit(nombres_premiers)"
   ]
  },
  {
   "cell_type": "code",
   "execution_count": null,
   "metadata": {},
   "outputs": [],
   "source": [
    "carmen_dit(\"pour avoir la liste de tous ces nombres au carré je peux écrire\")\n",
    "\n",
    "carmen_dit([x*x for x in nombres_premiers])\n",
    "sally_dit(\"tous ces nombres mis au carré, c'est beau n'est ce pas ?\")\n",
    "carmen_dit(\"il faut le lire comme une liste composée des éléments de la liste nombres_premiers que l'on met au carré\")"
   ]
  },
  {
   "cell_type": "code",
   "execution_count": null,
   "metadata": {},
   "outputs": [],
   "source": [
    "print(\"c'est comme ça que l'on s'exprime élégament en Python ?\")\n",
    "carmen_dit(\"oui c'est très apprécié ! on peut aussi filtrer les elements\")\n",
    "\n",
    "carmen_dit([x*x for x in nombres_premiers if divisible(x, 2)])\n",
    "sally_dit(\"oh mais il n'y a plus que 2 au carré !\")\n",
    "\n",
    "# cette manière de s'exprimer ressemble un peu à questionner une base de données en SQL\n",
    "\n",
    "carmen_dit(\"il ne faut pas en abuser mais lorsqu'il s'agit de convertir une liste\")\n",
    "carmen_dit(\"en une autre en appliquant un traitement ou un filtre, c'est la bonne façon !\")"
   ]
  },
  {
   "cell_type": "code",
   "execution_count": null,
   "metadata": {},
   "outputs": [],
   "source": [
    "print(\"oh mais, c'est pas possible ! qu'est ce qui vient vers nous ?\")\n",
    "peter_dit(\"il est immense !\")\n",
    "carmen_dit(\"il a de grandes dents...\")\n",
    "max_dit(\"ok, bien visiblement c'est un Dinosaure...\")\n",
    "sally_dit(\"tant que ce ne sont pas deux hirondelles portant une noix de coco, on va s'en sortir\")\n",
    "\n",
    "print(\"A SUIVRE\")"
   ]
  }
 ],
 "metadata": {
  "kernelspec": {
   "display_name": ".venv",
   "language": "python",
   "name": "python3"
  },
  "language_info": {
   "codemirror_mode": {
    "name": "ipython",
    "version": 3
   },
   "file_extension": ".py",
   "mimetype": "text/x-python",
   "name": "python",
   "nbconvert_exporter": "python",
   "pygments_lexer": "ipython3",
   "version": "3.11.5"
  },
  "orig_nbformat": 4
 },
 "nbformat": 4,
 "nbformat_minor": 2
}
